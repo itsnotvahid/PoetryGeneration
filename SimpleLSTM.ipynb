{
 "cells": [
  {
   "cell_type": "code",
   "execution_count": 3,
   "id": "a2430c96",
   "metadata": {},
   "outputs": [],
   "source": [
    "import torch\n",
    "from torch import nn, optim\n",
    "from torch.utils.data import DataLoader, TensorDataset\n",
    "from torch.nn import functional as F\n",
    "from tqdm import tqdm\n",
    "from torchtext.vocab import build_vocab_from_iterator\n",
    "from torchmetrics import Perplexity\n",
    "import re\n",
    "from torch.nn.utils import clip_grad_norm_\n",
    "from sklearn.model_selection import train_test_split\n",
    "import matplotlib.pyplot as plt"
   ]
  },
  {
   "cell_type": "code",
   "execution_count": 24,
   "id": "19a7a26e-65a2-4524-a743-e5e415853562",
   "metadata": {},
   "outputs": [],
   "source": [
    "class AverageMeter:\n",
    "    \n",
    "    def __init__(self):\n",
    "        self.reset()\n",
    "    \n",
    "    def reset(self):\n",
    "        self.val = 0\n",
    "        self.avg = 0\n",
    "        self.sum = 0\n",
    "        self.count = 0\n",
    "    \n",
    "    def update(self, val, n=1):\n",
    "        self.val = val\n",
    "        self.sum += val * n\n",
    "        self.count += n\n",
    "        self.avg = self.sum / self.count\n",
    "\n",
    "\n",
    "def train_one_epoch(model, train_loader, loss_fn, optimizer, epoch=None):\n",
    "    model.train()\n",
    "    loss_train = AverageMeter()\n",
    "    metric = Perplexity().to(device)\n",
    "    with tqdm(train_loader, unit='batch') as tepochs:\n",
    "        for x_batch, y_batch in tepochs:\n",
    "            if epoch is not None:\n",
    "                tepochs.set_description(f'epoch:{epoch}')\n",
    "            x_batch = x_batch.to(device)\n",
    "            y_batch = y_batch.to(device)\n",
    "            \n",
    "            yp = model(x_batch.to(device))\n",
    "            loss = loss_fn(yp.transpose(2, 1), y_batch)\n",
    "            \n",
    "            metric(yp, y_batch)\n",
    "            loss.backward()\n",
    "            clip_grad_norm_(model.parameters(), 0.25)\n",
    "            optimizer.step()\n",
    "            optimizer.zero_grad()\n",
    "            tepochs.set_postfix(loss=loss_train.avg, ppl=metric.compute().item())\n",
    "            loss_train.update(loss.item())\n",
    "        loss = loss_train.avg\n",
    "    return model, loss, metric.compute().item()\n",
    "\n",
    "def generate(prompt, temp, many):\n",
    "    model.eval()\n",
    "    input_eval = [vocab[c] for c in prompt]\n",
    "    with torch.no_grad():\n",
    "        for i in range(many):\n",
    "            model.eval()\n",
    "            predictions = model(torch.LongTensor(input_eval).unsqueeze(0).to(device))\n",
    "            predictions = (predictions.squeeze() / temp)\n",
    "            arg = torch.multinomial(F.softmax(predictions, dim=-1), 1)[-1]\n",
    "            input_eval.append(arg)\n",
    "    text = ''.join(itos[c] for c in input_eval)\n",
    "    return text\n",
    "\n",
    "\n",
    "def evaluate(model, test_loader, loss_fn):\n",
    "    model.eval()\n",
    "    metric = Perplexity().to(device)\n",
    "    loss_test = AverageMeter()\n",
    "    with torch.no_grad():\n",
    "        for x_batch, y_batch in test_loader:\n",
    "            x_batch = x_batch.to(device)\n",
    "            y_batch = y_batch.to(device)\n",
    "            yp = model(x_batch)\n",
    "            loss = loss_fn(yp.transpose(2, 1), y_batch)\n",
    "            metric(yp, y_batch)\n",
    "            loss_test.update(loss.item())\n",
    "    print(f'perpelxity :{metric.compute()}, loss : {loss_test.avg}')\n",
    "    return loss_test.avg, metric.compute().item()\n"
   ]
  },
  {
   "cell_type": "code",
   "execution_count": 5,
   "id": "6d48057c-ad63-409d-a993-8180fcd45ccd",
   "metadata": {},
   "outputs": [],
   "source": [
    "device = 'cuda' if torch.cuda.is_available() else 'cpu'\n"
   ]
  },
  {
   "cell_type": "markdown",
   "id": "61c8f52d-0c1c-43cf-a3cc-bb12fda7b4f9",
   "metadata": {},
   "source": [
    "# READ AND CLEAN"
   ]
  },
  {
   "cell_type": "code",
   "execution_count": 6,
   "id": "5d1c9fbb",
   "metadata": {
    "scrolled": true
   },
   "outputs": [],
   "source": [
    "with open('poet.txt') as f:\n",
    "    text = f.read()\n",
    "def clean(text):\n",
    "    new_text = list()\n",
    "    for i in text:\n",
    "        if re.match('[ا-ی|\\s]', i):\n",
    "            new_text.append(i)\n",
    "    text = ''.join(new_text).splitlines()\n",
    "    return ''.join(text)\n",
    "# dataset has afew character that could make our network a little confused about existance of them"
   ]
  },
  {
   "cell_type": "code",
   "execution_count": 7,
   "id": "18757879",
   "metadata": {},
   "outputs": [],
   "source": [
    "text = clean(text)"
   ]
  },
  {
   "cell_type": "markdown",
   "id": "7e4ad457-1557-490f-a9c5-8e35cba61ec2",
   "metadata": {},
   "source": [
    "#  PREPROCESS"
   ]
  },
  {
   "cell_type": "code",
   "execution_count": 8,
   "id": "e4054869",
   "metadata": {},
   "outputs": [],
   "source": [
    "vocab = build_vocab_from_iterator(text)\n",
    "itos = vocab.get_itos()"
   ]
  },
  {
   "cell_type": "code",
   "execution_count": 9,
   "id": "cc04840a",
   "metadata": {
    "scrolled": true
   },
   "outputs": [],
   "source": [
    "char_map = torch.LongTensor([vocab[c] for c in text])"
   ]
  },
  {
   "cell_type": "code",
   "execution_count": 10,
   "id": "e1a6a206",
   "metadata": {},
   "outputs": [],
   "source": [
    "char_map = char_map.unfold(0, 100, 1)"
   ]
  },
  {
   "cell_type": "code",
   "execution_count": 11,
   "id": "9ab2a1a1",
   "metadata": {},
   "outputs": [],
   "source": [
    "x, y = (lambda x : (x[:, :-1], x[:, 1:]))(char_map)"
   ]
  },
  {
   "cell_type": "code",
   "execution_count": 12,
   "id": "520e755d",
   "metadata": {},
   "outputs": [],
   "source": [
    "X_train, X_valid, y_train, y_valid = train_test_split(x, y, train_size=0.80)"
   ]
  },
  {
   "cell_type": "code",
   "execution_count": 13,
   "id": "a62a6539",
   "metadata": {},
   "outputs": [],
   "source": [
    "train_set = TensorDataset(X_train, y_train)\n",
    "valid_set = TensorDataset(X_valid, y_valid)"
   ]
  },
  {
   "cell_type": "code",
   "execution_count": 14,
   "id": "01a33486",
   "metadata": {},
   "outputs": [],
   "source": [
    "train_loader = DataLoader(train_set, shuffle=True, batch_size=70)\n",
    "valid_loader = DataLoader(valid_set, shuffle=True, batch_size=70)"
   ]
  },
  {
   "cell_type": "markdown",
   "id": "4867cdb7",
   "metadata": {},
   "source": [
    "# MODEL"
   ]
  },
  {
   "cell_type": "code",
   "execution_count": 15,
   "id": "072c1ab3",
   "metadata": {},
   "outputs": [],
   "source": [
    "embedding_dim = 300\n",
    "rnn_units = 500\n",
    "num_layers = 2\n",
    "vocab_size = len(vocab)"
   ]
  },
  {
   "cell_type": "code",
   "execution_count": 16,
   "id": "699627a8",
   "metadata": {},
   "outputs": [],
   "source": [
    "class LSTMLanguageModel(nn.Module):\n",
    "    def __init__(self, embedding_dim, rnn_units, num_layers, voc_size):\n",
    "        super().__init__()\n",
    "        self.embed = nn.Embedding(voc_size, embedding_dim)\n",
    "        self.rnn = nn.LSTM(embedding_dim, rnn_units, batch_first=True, dropout=0.5, num_layers=num_layers)\n",
    "        self.fc = nn.Linear(rnn_units, voc_size)\n",
    "        self.dropout = nn.Dropout()\n",
    "    def forward(self, x):\n",
    "        x = self.dropout(self.embed(x))\n",
    "        output, hn = self.rnn(x)\n",
    "        y = self.fc(output)\n",
    "        return y"
   ]
  },
  {
   "cell_type": "code",
   "execution_count": null,
   "id": "9ac58326",
   "metadata": {
    "scrolled": true
   },
   "outputs": [],
   "source": [
    "model = LSTMLanguageModel(embedding_dim, rnn_units, num_layers, vocab_size).to(device)"
   ]
  },
  {
   "cell_type": "code",
   "execution_count": 17,
   "id": "00410ce8",
   "metadata": {},
   "outputs": [],
   "source": [
    "model = torch.load('model.pt')"
   ]
  },
  {
   "cell_type": "code",
   "execution_count": 18,
   "id": "e10343b3",
   "metadata": {},
   "outputs": [
    {
     "data": {
      "text/plain": [
       "3640841"
      ]
     },
     "execution_count": 18,
     "metadata": {},
     "output_type": "execute_result"
    }
   ],
   "source": [
    "sum(p.numel() for p in model.parameters())"
   ]
  },
  {
   "cell_type": "code",
   "execution_count": 19,
   "id": "990e5c62",
   "metadata": {},
   "outputs": [],
   "source": [
    "loss_fn = nn.CrossEntropyLoss()\n",
    "optimizer = optim.SGD(model.parameters(), lr=5, weight_decay=1e-6)"
   ]
  },
  {
   "cell_type": "code",
   "execution_count": 20,
   "id": "93fa504f",
   "metadata": {},
   "outputs": [],
   "source": [
    "loss_train_hist = list()\n",
    "loss_valid_hist = list()\n",
    "ppl_train_hist = list()\n",
    "ppl_valid_hist = list()\n",
    "best_loss_test = torch.inf"
   ]
  },
  {
   "cell_type": "code",
   "execution_count": 23,
   "id": "4d26e475",
   "metadata": {
    "scrolled": true
   },
   "outputs": [
    {
     "name": "stderr",
     "output_type": "stream",
     "text": [
      "epoch:0: 100%|█████| 8040/8040 [02:00<00:00, 66.89batch/s, loss=0.676, ppl=1.97]\n"
     ]
    },
    {
     "name": "stdout",
     "output_type": "stream",
     "text": [
      "perpelxity :1.5826128721237183, loss : 0.45907811795301107\n",
      "Model SAVED\n"
     ]
    },
    {
     "name": "stderr",
     "output_type": "stream",
     "text": [
      "epoch:1: 100%|█████| 8040/8040 [01:59<00:00, 67.12batch/s, loss=0.671, ppl=1.96]\n"
     ]
    },
    {
     "name": "stdout",
     "output_type": "stream",
     "text": [
      "perpelxity :1.5733574628829956, loss : 0.45321022028946756\n",
      "Model SAVED\n"
     ]
    },
    {
     "name": "stderr",
     "output_type": "stream",
     "text": [
      "epoch:2: 100%|█████| 8040/8040 [01:59<00:00, 67.28batch/s, loss=0.667, ppl=1.95]\n"
     ]
    },
    {
     "name": "stdout",
     "output_type": "stream",
     "text": [
      "perpelxity :1.5724685192108154, loss : 0.4526471684672939\n",
      "Model SAVED\n"
     ]
    },
    {
     "name": "stderr",
     "output_type": "stream",
     "text": [
      "epoch:3:  52%|██▌  | 4160/8040 [01:01<00:57, 67.59batch/s, loss=0.663, ppl=1.94]\n"
     ]
    },
    {
     "ename": "KeyboardInterrupt",
     "evalue": "",
     "output_type": "error",
     "traceback": [
      "\u001b[0;31m---------------------------------------------------------------------------\u001b[0m",
      "\u001b[0;31mKeyboardInterrupt\u001b[0m                         Traceback (most recent call last)",
      "Cell \u001b[0;32mIn[23], line 4\u001b[0m\n\u001b[1;32m      2\u001b[0m epoch_counter \u001b[38;5;241m=\u001b[39m \u001b[38;5;241m0\u001b[39m\n\u001b[1;32m      3\u001b[0m \u001b[38;5;28;01mfor\u001b[39;00m epoch \u001b[38;5;129;01min\u001b[39;00m \u001b[38;5;28mrange\u001b[39m(n):\n\u001b[0;32m----> 4\u001b[0m     model, train_loss, train_metric  \u001b[38;5;241m=\u001b[39m train_one_epoch(model, train_loader, loss_fn, optimizer, epoch)\n\u001b[1;32m      5\u001b[0m     valid_loss, valid_metric \u001b[38;5;241m=\u001b[39m evaluate(model, valid_loader, loss_fn)\n\u001b[1;32m      7\u001b[0m     loss_train_hist\u001b[38;5;241m.\u001b[39mappend(train_loss)\n",
      "Cell \u001b[0;32mIn[4], line 38\u001b[0m, in \u001b[0;36mtrain_one_epoch\u001b[0;34m(model, train_loader, loss_fn, optimizer, epoch)\u001b[0m\n\u001b[1;32m     36\u001b[0m     optimizer\u001b[38;5;241m.\u001b[39mstep()\n\u001b[1;32m     37\u001b[0m     optimizer\u001b[38;5;241m.\u001b[39mzero_grad()\n\u001b[0;32m---> 38\u001b[0m     tepochs\u001b[38;5;241m.\u001b[39mset_postfix(loss\u001b[38;5;241m=\u001b[39mloss_train\u001b[38;5;241m.\u001b[39mavg, ppl\u001b[38;5;241m=\u001b[39mmetric\u001b[38;5;241m.\u001b[39mcompute()\u001b[38;5;241m.\u001b[39mitem())\n\u001b[1;32m     39\u001b[0m     loss_train\u001b[38;5;241m.\u001b[39mupdate(loss\u001b[38;5;241m.\u001b[39mitem())\n\u001b[1;32m     40\u001b[0m loss \u001b[38;5;241m=\u001b[39m loss_train\u001b[38;5;241m.\u001b[39mavg\n",
      "\u001b[0;31mKeyboardInterrupt\u001b[0m: "
     ]
    }
   ],
   "source": [
    "n = 30\n",
    "epoch_counter = 0\n",
    "for epoch in range(n):\n",
    "    model, train_loss, train_metric  = train_one_epoch(model, train_loader, loss_fn, optimizer, epoch)\n",
    "    valid_loss, valid_metric = evaluate(model, valid_loader, loss_fn)\n",
    "\n",
    "    loss_train_hist.append(train_loss)\n",
    "    loss_valid_hist.append(valid_loss)\n",
    "    \n",
    "    ppl_train_hist.append(train_metric)\n",
    "    ppl_valid_hist.append(valid_metric)\n",
    "    \n",
    "    if valid_loss < best_loss_test:\n",
    "        torch.save(model,'model.pt')\n",
    "        best_loss_test =  valid_loss\n",
    "        print('Model SAVED')\n",
    "    epoch_counter +=1"
   ]
  },
  {
   "cell_type": "code",
   "execution_count": 25,
   "id": "2cd8975f",
   "metadata": {},
   "outputs": [
    {
     "data": {
      "image/png": "[encoded data removed]",
      "text/plain": [
       "<Figure size 640x480 with 1 Axes>"
      ]
     },
     "metadata": {},
     "output_type": "display_data"
    }
   ],
   "source": [
    "plt.plot(ppl_train_hist, label='train perpelxity')\n",
    "plt.plot(ppl_valid_hist, label='valid perpelxity')\n",
    "plt.legend()\n",
    "plt.grid(True)"
   ]
  },
  {
   "cell_type": "code",
   "execution_count": 26,
   "id": "18a525ac",
   "metadata": {},
   "outputs": [
    {
     "data": {
      "image/png": "[encoded data removed]",
      "text/plain": [
       "<Figure size 640x480 with 1 Axes>"
      ]
     },
     "metadata": {},
     "output_type": "display_data"
    }
   ],
   "source": [
    "plt.plot(loss_train_hist, label='train perpelxity')\n",
    "plt.plot(loss_valid_hist, label='valid perpelxity')\n",
    "plt.legend()\n",
    "plt.grid(True)"
   ]
  },
  {
   "cell_type": "code",
   "execution_count": null,
   "id": "b6128082",
   "metadata": {
    "scrolled": true
   },
   "outputs": [],
   "source": []
  },
  {
   "cell_type": "code",
   "execution_count": 52,
   "id": "18dba2ea",
   "metadata": {
    "scrolled": false
   },
   "outputs": [
    {
     "data": {
      "text/plain": [
       "['طلب از ياد نرگس می شمارم باده ده',\n",
       " 'که از ن يوسف مه و پی نادی کنند',\n",
       " 'پس به دم خود ار با حرم کردم چو من',\n",
       " 'نیست این شاهان و ظاهر بر مرا',\n",
       " 'دل چه می گوید بدیشان ای عجب',\n",
       " 'طالهٔ خود خواجه اش در پی دود',\n",
       " 'باز نور نور دل نور خداست',\n",
       " 'کو ز دجله غالف از درد شدم',\n",
       " 'کو به زین حال و هزاران را شناخت',\n",
       " 'زانک این دو چشم را از نور روز',\n",
       " 'تا نماند در جهان چون روم و زند',\n",
       " 'زانک تش شد همچو سبزهٔ ضعیف',\n",
       " 'تا همان رنجوری تو از خوی تن',\n",
       " 'تا هلال روح می کشد از گمان',\n",
       " 'چونک شد از شه گرد چاریک سر',\n",
       " 'چون به خلق از می زنند و می زند',\n",
       " 'زن دو سه جان پیمورشی نشست',\n",
       " 'عشق از نخست که ز لعل هنگشار',\n",
       " 'تو را ز است که ما را همی بری',\n",
       " 'حافظ بر در انگشته غم باشد',\n",
       " 'به ياد يار و ديار ن چنان بگريم',\n",
       " 'جای تطبير من از جان بوسه سرش',\n",
       " 'تو شها را ن سبو را باز گرد',\n",
       " 'گفت چون وهمست ما هر روز نیست',\n",
       " 'گشت رسمت ک']"
      ]
     },
     "execution_count": 52,
     "metadata": {},
     "output_type": "execute_result"
    }
   ],
   "source": [
    "generate('طلب', temp=0.2, many=700).split('|')"
   ]
  },
  {
   "cell_type": "code",
   "execution_count": null,
   "id": "d72c800e",
   "metadata": {},
   "outputs": [],
   "source": []
  },
  {
   "cell_type": "code",
   "execution_count": null,
   "id": "a9dd11e6",
   "metadata": {},
   "outputs": [],
   "source": [
    "\n",
    "\n",
    "\n"
   ]
  }
 ],
 "metadata": {
  "kernelspec": {
   "display_name": "Python 3 (ipykernel)",
   "language": "python",
   "name": "python3"
  },
  "language_info": {
   "codemirror_mode": {
    "name": "ipython",
    "version": 3
   },
   "file_extension": ".py",
   "mimetype": "text/x-python",
   "name": "python",
   "nbconvert_exporter": "python",
   "pygments_lexer": "ipython3",
   "version": "3.11.5"
  }
 },
 "nbformat": 4,
 "nbformat_minor": 5
}
