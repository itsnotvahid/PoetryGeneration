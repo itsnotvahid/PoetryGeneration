{
 "cells": [
  {
   "cell_type": "code",
   "execution_count": 73,
   "id": "a2430c96",
   "metadata": {},
   "outputs": [],
   "source": [
    "import torch\n",
    "from torch import nn, optim\n",
    "from torch.utils.data import DataLoader, TensorDataset\n",
    "from torch.nn import functional as F\n",
    "from tqdm import tqdm\n",
    "from torchtext.vocab import build_vocab_from_iterator\n",
    "from torchmetrics import Perplexity\n",
    "import re\n",
    "from torch.nn.utils import clip_grad_norm_\n",
    "from sklearn.model_selection import train_test_split\n",
    "import matplotlib.pyplot as plt"
   ]
  },
  {
   "cell_type": "code",
   "execution_count": 30,
   "id": "19a7a26e-65a2-4524-a743-e5e415853562",
   "metadata": {},
   "outputs": [],
   "source": [
    "class AverageMeter:\n",
    "    \n",
    "    def __init__(self):\n",
    "        self.reset()\n",
    "    \n",
    "    def reset(self):\n",
    "        self.val = 0\n",
    "        self.avg = 0\n",
    "        self.sum = 0\n",
    "        self.count = 0\n",
    "    \n",
    "    def update(self, val, n=1):\n",
    "        self.val = val\n",
    "        self.sum += val * n\n",
    "        self.count += n\n",
    "        self.avg = self.sum / self.count\n",
    "\n",
    "\n",
    "def train_one_epoch(model, train_loader, loss_fn, optimizer, epoch=None):\n",
    "    model.train()\n",
    "    loss_train = AverageMeter()\n",
    "    metric = Perplexity().to(device)\n",
    "    with tqdm(train_loader, unit='batch') as tepochs:\n",
    "        for x_batch, y_batch in tepochs:\n",
    "            if epoch is not None:\n",
    "                tepochs.set_description(f'epoch:{epoch}')\n",
    "            x_batch = x_batch.to(device)\n",
    "            y_batch = y_batch.to(device)\n",
    "            \n",
    "            yp = model(x_batch.to(device))\n",
    "            loss = loss_fn(yp.transpose(2, 1), y_batch)\n",
    "            \n",
    "            metric(yp, y_batch)\n",
    "            loss.backward()\n",
    "            clip_grad_norm_(model.parameters(), 0.25)\n",
    "            optimizer.step()\n",
    "            optimizer.zero_grad()\n",
    "            tepochs.set_postfix(loss=loss_train.avg, ppl=metric.compute().item())\n",
    "            loss_train.update(loss.item())\n",
    "        loss = loss_train.avg\n",
    "    return model, loss, metric.compute().item()\n",
    "\n",
    "\n",
    "def evaluate(model, test_loader, loss_fn):\n",
    "    model.eval()\n",
    "    metric = Perplexity().to(device)\n",
    "    loss_test = AverageMeter()\n",
    "    with torch.no_grad():\n",
    "        for x_batch, y_batch in test_loader:\n",
    "            x_batch = x_batch.to(device)\n",
    "            y_batch = y_batch.to(device)\n",
    "            yp = model(x_batch)\n",
    "            loss = loss_fn(yp.transpose(2, 1), y_batch)\n",
    "            metric(yp, y_batch)\n",
    "            loss_test.update(loss.item())\n",
    "    print(f'perpelxity :{metric.compute()}, loss : {loss_test.avg}')\n",
    "    return loss_test.avg, metric.compute().item()\n"
   ]
  },
  {
   "cell_type": "code",
   "execution_count": 8,
   "id": "6d48057c-ad63-409d-a993-8180fcd45ccd",
   "metadata": {},
   "outputs": [],
   "source": [
    "device = 'cuda' if torch.cuda.is_available() else 'cpu'\n"
   ]
  },
  {
   "cell_type": "markdown",
   "id": "61c8f52d-0c1c-43cf-a3cc-bb12fda7b4f9",
   "metadata": {},
   "source": [
    "# READ AND CLEAN"
   ]
  },
  {
   "cell_type": "code",
   "execution_count": 9,
   "id": "5d1c9fbb",
   "metadata": {
    "scrolled": true
   },
   "outputs": [],
   "source": [
    "with open('poet.txt') as f:\n",
    "    text = f.read()\n",
    "def clean(text):\n",
    "    new_text = list()\n",
    "    for i in text:\n",
    "        if re.match('[ا-ی|\\s]', i):\n",
    "            new_text.append(i)\n",
    "    text = ''.join(new_text).splitlines()\n",
    "    return ''.join(text)\n",
    "# dataset has afew character that could make our network a little confused about existance of them"
   ]
  },
  {
   "cell_type": "code",
   "execution_count": 10,
   "id": "18757879",
   "metadata": {},
   "outputs": [],
   "source": [
    "text = clean(text)"
   ]
  },
  {
   "cell_type": "markdown",
   "id": "7e4ad457-1557-490f-a9c5-8e35cba61ec2",
   "metadata": {},
   "source": [
    "#  PREPROCESS"
   ]
  },
  {
   "cell_type": "code",
   "execution_count": 11,
   "id": "e4054869",
   "metadata": {},
   "outputs": [],
   "source": [
    "vocab = build_vocab_from_iterator(text)\n",
    "itos = vocab.get_itos()"
   ]
  },
  {
   "cell_type": "code",
   "execution_count": 12,
   "id": "cc04840a",
   "metadata": {
    "scrolled": true
   },
   "outputs": [],
   "source": [
    "char_map = torch.LongTensor([vocab[c] for c in text])"
   ]
  },
  {
   "cell_type": "code",
   "execution_count": 13,
   "id": "e1a6a206",
   "metadata": {},
   "outputs": [],
   "source": [
    "char_map = char_map.unfold(0, 100, 1)"
   ]
  },
  {
   "cell_type": "code",
   "execution_count": 14,
   "id": "9ab2a1a1",
   "metadata": {},
   "outputs": [],
   "source": [
    "x, y = (lambda x : (x[:, :-1], x[:, 1:]))(char_map)"
   ]
  },
  {
   "cell_type": "code",
   "execution_count": 15,
   "id": "520e755d",
   "metadata": {},
   "outputs": [],
   "source": [
    "X_train, X_valid, y_train, y_valid = train_test_split(x, y, train_size=0.80)"
   ]
  },
  {
   "cell_type": "code",
   "execution_count": 16,
   "id": "a62a6539",
   "metadata": {},
   "outputs": [],
   "source": [
    "train_set = TensorDataset(X_train, y_train)\n",
    "valid_set = TensorDataset(X_valid, y_valid)"
   ]
  },
  {
   "cell_type": "code",
   "execution_count": 17,
   "id": "01a33486",
   "metadata": {},
   "outputs": [],
   "source": [
    "train_loader = DataLoader(train_set, shuffle=True, batch_size=70)\n",
    "valid_loader = DataLoader(valid_set, shuffle=True, batch_size=70)"
   ]
  },
  {
   "cell_type": "markdown",
   "id": "4867cdb7",
   "metadata": {},
   "source": [
    "# MODEL"
   ]
  },
  {
   "cell_type": "code",
   "execution_count": 19,
   "id": "072c1ab3",
   "metadata": {},
   "outputs": [],
   "source": [
    "embedding_dim = 300\n",
    "rnn_units = 500\n",
    "num_layers = 2\n",
    "vocab_size = len(vocab)"
   ]
  },
  {
   "cell_type": "code",
   "execution_count": 20,
   "id": "699627a8",
   "metadata": {},
   "outputs": [],
   "source": [
    "class LSTMLanguageModel(nn.Module):\n",
    "    def __init__(self, embedding_dim, rnn_units, num_layers, voc_size):\n",
    "        super().__init__()\n",
    "        self.embed = nn.Embedding(voc_size, embedding_dim)\n",
    "        self.rnn = nn.LSTM(embedding_dim, rnn_units, batch_first=True, dropout=0.5, num_layers=num_layers)\n",
    "        self.fc = nn.Linear(rnn_units, voc_size)\n",
    "        self.dropout = nn.Dropout()\n",
    "    def forward(self, x):\n",
    "        x = self.dropout(self.embed(x))\n",
    "        output, hn = self.rnn(x)\n",
    "        y = self.fc(output)\n",
    "        return y"
   ]
  },
  {
   "cell_type": "code",
   "execution_count": 21,
   "id": "9ac58326",
   "metadata": {
    "scrolled": true
   },
   "outputs": [],
   "source": [
    "model = LSTMLanguageModel(embedding_dim, rnn_units, num_layers, vocab_size).to(device)"
   ]
  },
  {
   "cell_type": "code",
   "execution_count": 22,
   "id": "e10343b3",
   "metadata": {},
   "outputs": [
    {
     "data": {
      "text/plain": [
       "3640841"
      ]
     },
     "execution_count": 22,
     "metadata": {},
     "output_type": "execute_result"
    }
   ],
   "source": [
    "sum(p.numel() for p in model.parameters())"
   ]
  },
  {
   "cell_type": "code",
   "execution_count": 23,
   "id": "990e5c62",
   "metadata": {},
   "outputs": [],
   "source": [
    "loss_fn = nn.CrossEntropyLoss()\n",
    "optimizer = optim.SGD(model.parameters(), lr=5, weight_decay=1e-6)"
   ]
  },
  {
   "cell_type": "code",
   "execution_count": 24,
   "id": "93fa504f",
   "metadata": {},
   "outputs": [],
   "source": [
    "loss_train_hist = list()\n",
    "loss_valid_hist = list()\n",
    "ppl_train_hist = list()\n",
    "ppl_valid_hist = list()\n",
    "best_loss_test = torch.inf"
   ]
  },
  {
   "cell_type": "code",
   "execution_count": 60,
   "id": "4d26e475",
   "metadata": {
    "scrolled": false
   },
   "outputs": [
    {
     "name": "stderr",
     "output_type": "stream",
     "text": [
      "epoch:0: 100%|█████| 8040/8040 [01:59<00:00, 67.54batch/s, loss=0.796, ppl=2.22]\n"
     ]
    },
    {
     "name": "stdout",
     "output_type": "stream",
     "text": [
      "perpelxity :1.7478524446487427, loss : 0.5583873580344281\n",
      "Model SAVED\n"
     ]
    },
    {
     "name": "stderr",
     "output_type": "stream",
     "text": [
      "epoch:1: 100%|█████| 8040/8040 [01:59<00:00, 67.55batch/s, loss=0.778, ppl=2.18]\n"
     ]
    },
    {
     "name": "stdout",
     "output_type": "stream",
     "text": [
      "perpelxity :1.7209523916244507, loss : 0.5428773036940181\n",
      "Model SAVED\n"
     ]
    },
    {
     "name": "stderr",
     "output_type": "stream",
     "text": [
      "epoch:2:   4%|▎     | 350/8040 [00:05<01:53, 68.04batch/s, loss=0.766, ppl=2.15]\n"
     ]
    },
    {
     "ename": "KeyboardInterrupt",
     "evalue": "",
     "output_type": "error",
     "traceback": [
      "\u001b[0;31m---------------------------------------------------------------------------\u001b[0m",
      "\u001b[0;31mKeyboardInterrupt\u001b[0m                         Traceback (most recent call last)",
      "Cell \u001b[0;32mIn[60], line 4\u001b[0m\n\u001b[1;32m      2\u001b[0m epoch_counter \u001b[38;5;241m=\u001b[39m \u001b[38;5;241m0\u001b[39m\n\u001b[1;32m      3\u001b[0m \u001b[38;5;28;01mfor\u001b[39;00m epoch \u001b[38;5;129;01min\u001b[39;00m \u001b[38;5;28mrange\u001b[39m(n):\n\u001b[0;32m----> 4\u001b[0m     model, train_loss, train_metric  \u001b[38;5;241m=\u001b[39m train_one_epoch(model, train_loader, loss_fn, optimizer, epoch)\n\u001b[1;32m      5\u001b[0m     valid_loss, valid_metric \u001b[38;5;241m=\u001b[39m evaluate(model, valid_loader, loss_fn)\n\u001b[1;32m      7\u001b[0m     loss_train_hist\u001b[38;5;241m.\u001b[39mappend(train_loss)\n",
      "Cell \u001b[0;32mIn[30], line 30\u001b[0m, in \u001b[0;36mtrain_one_epoch\u001b[0;34m(model, train_loader, loss_fn, optimizer, epoch)\u001b[0m\n\u001b[1;32m     27\u001b[0m x_batch \u001b[38;5;241m=\u001b[39m x_batch\u001b[38;5;241m.\u001b[39mto(device)\n\u001b[1;32m     28\u001b[0m y_batch \u001b[38;5;241m=\u001b[39m y_batch\u001b[38;5;241m.\u001b[39mto(device)\n\u001b[0;32m---> 30\u001b[0m yp \u001b[38;5;241m=\u001b[39m model(x_batch\u001b[38;5;241m.\u001b[39mto(device))\n\u001b[1;32m     31\u001b[0m loss \u001b[38;5;241m=\u001b[39m loss_fn(yp\u001b[38;5;241m.\u001b[39mtranspose(\u001b[38;5;241m2\u001b[39m, \u001b[38;5;241m1\u001b[39m), y_batch)\n\u001b[1;32m     33\u001b[0m metric(yp, y_batch)\n",
      "File \u001b[0;32m~/anaconda3/lib/python3.11/site-packages/torch/nn/modules/module.py:1518\u001b[0m, in \u001b[0;36mModule._wrapped_call_impl\u001b[0;34m(self, *args, **kwargs)\u001b[0m\n\u001b[1;32m   1516\u001b[0m     \u001b[38;5;28;01mreturn\u001b[39;00m \u001b[38;5;28mself\u001b[39m\u001b[38;5;241m.\u001b[39m_compiled_call_impl(\u001b[38;5;241m*\u001b[39margs, \u001b[38;5;241m*\u001b[39m\u001b[38;5;241m*\u001b[39mkwargs)  \u001b[38;5;66;03m# type: ignore[misc]\u001b[39;00m\n\u001b[1;32m   1517\u001b[0m \u001b[38;5;28;01melse\u001b[39;00m:\n\u001b[0;32m-> 1518\u001b[0m     \u001b[38;5;28;01mreturn\u001b[39;00m \u001b[38;5;28mself\u001b[39m\u001b[38;5;241m.\u001b[39m_call_impl(\u001b[38;5;241m*\u001b[39margs, \u001b[38;5;241m*\u001b[39m\u001b[38;5;241m*\u001b[39mkwargs)\n",
      "File \u001b[0;32m~/anaconda3/lib/python3.11/site-packages/torch/nn/modules/module.py:1527\u001b[0m, in \u001b[0;36mModule._call_impl\u001b[0;34m(self, *args, **kwargs)\u001b[0m\n\u001b[1;32m   1522\u001b[0m \u001b[38;5;66;03m# If we don't have any hooks, we want to skip the rest of the logic in\u001b[39;00m\n\u001b[1;32m   1523\u001b[0m \u001b[38;5;66;03m# this function, and just call forward.\u001b[39;00m\n\u001b[1;32m   1524\u001b[0m \u001b[38;5;28;01mif\u001b[39;00m \u001b[38;5;129;01mnot\u001b[39;00m (\u001b[38;5;28mself\u001b[39m\u001b[38;5;241m.\u001b[39m_backward_hooks \u001b[38;5;129;01mor\u001b[39;00m \u001b[38;5;28mself\u001b[39m\u001b[38;5;241m.\u001b[39m_backward_pre_hooks \u001b[38;5;129;01mor\u001b[39;00m \u001b[38;5;28mself\u001b[39m\u001b[38;5;241m.\u001b[39m_forward_hooks \u001b[38;5;129;01mor\u001b[39;00m \u001b[38;5;28mself\u001b[39m\u001b[38;5;241m.\u001b[39m_forward_pre_hooks\n\u001b[1;32m   1525\u001b[0m         \u001b[38;5;129;01mor\u001b[39;00m _global_backward_pre_hooks \u001b[38;5;129;01mor\u001b[39;00m _global_backward_hooks\n\u001b[1;32m   1526\u001b[0m         \u001b[38;5;129;01mor\u001b[39;00m _global_forward_hooks \u001b[38;5;129;01mor\u001b[39;00m _global_forward_pre_hooks):\n\u001b[0;32m-> 1527\u001b[0m     \u001b[38;5;28;01mreturn\u001b[39;00m forward_call(\u001b[38;5;241m*\u001b[39margs, \u001b[38;5;241m*\u001b[39m\u001b[38;5;241m*\u001b[39mkwargs)\n\u001b[1;32m   1529\u001b[0m \u001b[38;5;28;01mtry\u001b[39;00m:\n\u001b[1;32m   1530\u001b[0m     result \u001b[38;5;241m=\u001b[39m \u001b[38;5;28;01mNone\u001b[39;00m\n",
      "Cell \u001b[0;32mIn[20], line 10\u001b[0m, in \u001b[0;36mLSTMLanguageModel.forward\u001b[0;34m(self, x)\u001b[0m\n\u001b[1;32m      8\u001b[0m \u001b[38;5;28;01mdef\u001b[39;00m \u001b[38;5;21mforward\u001b[39m(\u001b[38;5;28mself\u001b[39m, x):\n\u001b[1;32m      9\u001b[0m     x \u001b[38;5;241m=\u001b[39m \u001b[38;5;28mself\u001b[39m\u001b[38;5;241m.\u001b[39mdropout(\u001b[38;5;28mself\u001b[39m\u001b[38;5;241m.\u001b[39membed(x))\n\u001b[0;32m---> 10\u001b[0m     output, hn \u001b[38;5;241m=\u001b[39m \u001b[38;5;28mself\u001b[39m\u001b[38;5;241m.\u001b[39mrnn(x)\n\u001b[1;32m     11\u001b[0m     y \u001b[38;5;241m=\u001b[39m \u001b[38;5;28mself\u001b[39m\u001b[38;5;241m.\u001b[39mfc(output)\n\u001b[1;32m     12\u001b[0m     \u001b[38;5;28;01mreturn\u001b[39;00m y\n",
      "File \u001b[0;32m~/anaconda3/lib/python3.11/site-packages/torch/nn/modules/module.py:1518\u001b[0m, in \u001b[0;36mModule._wrapped_call_impl\u001b[0;34m(self, *args, **kwargs)\u001b[0m\n\u001b[1;32m   1516\u001b[0m     \u001b[38;5;28;01mreturn\u001b[39;00m \u001b[38;5;28mself\u001b[39m\u001b[38;5;241m.\u001b[39m_compiled_call_impl(\u001b[38;5;241m*\u001b[39margs, \u001b[38;5;241m*\u001b[39m\u001b[38;5;241m*\u001b[39mkwargs)  \u001b[38;5;66;03m# type: ignore[misc]\u001b[39;00m\n\u001b[1;32m   1517\u001b[0m \u001b[38;5;28;01melse\u001b[39;00m:\n\u001b[0;32m-> 1518\u001b[0m     \u001b[38;5;28;01mreturn\u001b[39;00m \u001b[38;5;28mself\u001b[39m\u001b[38;5;241m.\u001b[39m_call_impl(\u001b[38;5;241m*\u001b[39margs, \u001b[38;5;241m*\u001b[39m\u001b[38;5;241m*\u001b[39mkwargs)\n",
      "File \u001b[0;32m~/anaconda3/lib/python3.11/site-packages/torch/nn/modules/module.py:1527\u001b[0m, in \u001b[0;36mModule._call_impl\u001b[0;34m(self, *args, **kwargs)\u001b[0m\n\u001b[1;32m   1522\u001b[0m \u001b[38;5;66;03m# If we don't have any hooks, we want to skip the rest of the logic in\u001b[39;00m\n\u001b[1;32m   1523\u001b[0m \u001b[38;5;66;03m# this function, and just call forward.\u001b[39;00m\n\u001b[1;32m   1524\u001b[0m \u001b[38;5;28;01mif\u001b[39;00m \u001b[38;5;129;01mnot\u001b[39;00m (\u001b[38;5;28mself\u001b[39m\u001b[38;5;241m.\u001b[39m_backward_hooks \u001b[38;5;129;01mor\u001b[39;00m \u001b[38;5;28mself\u001b[39m\u001b[38;5;241m.\u001b[39m_backward_pre_hooks \u001b[38;5;129;01mor\u001b[39;00m \u001b[38;5;28mself\u001b[39m\u001b[38;5;241m.\u001b[39m_forward_hooks \u001b[38;5;129;01mor\u001b[39;00m \u001b[38;5;28mself\u001b[39m\u001b[38;5;241m.\u001b[39m_forward_pre_hooks\n\u001b[1;32m   1525\u001b[0m         \u001b[38;5;129;01mor\u001b[39;00m _global_backward_pre_hooks \u001b[38;5;129;01mor\u001b[39;00m _global_backward_hooks\n\u001b[1;32m   1526\u001b[0m         \u001b[38;5;129;01mor\u001b[39;00m _global_forward_hooks \u001b[38;5;129;01mor\u001b[39;00m _global_forward_pre_hooks):\n\u001b[0;32m-> 1527\u001b[0m     \u001b[38;5;28;01mreturn\u001b[39;00m forward_call(\u001b[38;5;241m*\u001b[39margs, \u001b[38;5;241m*\u001b[39m\u001b[38;5;241m*\u001b[39mkwargs)\n\u001b[1;32m   1529\u001b[0m \u001b[38;5;28;01mtry\u001b[39;00m:\n\u001b[1;32m   1530\u001b[0m     result \u001b[38;5;241m=\u001b[39m \u001b[38;5;28;01mNone\u001b[39;00m\n",
      "File \u001b[0;32m~/anaconda3/lib/python3.11/site-packages/torch/nn/modules/rnn.py:879\u001b[0m, in \u001b[0;36mLSTM.forward\u001b[0;34m(self, input, hx)\u001b[0m\n\u001b[1;32m    876\u001b[0m         hx \u001b[38;5;241m=\u001b[39m \u001b[38;5;28mself\u001b[39m\u001b[38;5;241m.\u001b[39mpermute_hidden(hx, sorted_indices)\n\u001b[1;32m    878\u001b[0m \u001b[38;5;28;01mif\u001b[39;00m batch_sizes \u001b[38;5;129;01mis\u001b[39;00m \u001b[38;5;28;01mNone\u001b[39;00m:\n\u001b[0;32m--> 879\u001b[0m     result \u001b[38;5;241m=\u001b[39m _VF\u001b[38;5;241m.\u001b[39mlstm(\u001b[38;5;28minput\u001b[39m, hx, \u001b[38;5;28mself\u001b[39m\u001b[38;5;241m.\u001b[39m_flat_weights, \u001b[38;5;28mself\u001b[39m\u001b[38;5;241m.\u001b[39mbias, \u001b[38;5;28mself\u001b[39m\u001b[38;5;241m.\u001b[39mnum_layers,\n\u001b[1;32m    880\u001b[0m                       \u001b[38;5;28mself\u001b[39m\u001b[38;5;241m.\u001b[39mdropout, \u001b[38;5;28mself\u001b[39m\u001b[38;5;241m.\u001b[39mtraining, \u001b[38;5;28mself\u001b[39m\u001b[38;5;241m.\u001b[39mbidirectional, \u001b[38;5;28mself\u001b[39m\u001b[38;5;241m.\u001b[39mbatch_first)\n\u001b[1;32m    881\u001b[0m \u001b[38;5;28;01melse\u001b[39;00m:\n\u001b[1;32m    882\u001b[0m     result \u001b[38;5;241m=\u001b[39m _VF\u001b[38;5;241m.\u001b[39mlstm(\u001b[38;5;28minput\u001b[39m, batch_sizes, hx, \u001b[38;5;28mself\u001b[39m\u001b[38;5;241m.\u001b[39m_flat_weights, \u001b[38;5;28mself\u001b[39m\u001b[38;5;241m.\u001b[39mbias,\n\u001b[1;32m    883\u001b[0m                       \u001b[38;5;28mself\u001b[39m\u001b[38;5;241m.\u001b[39mnum_layers, \u001b[38;5;28mself\u001b[39m\u001b[38;5;241m.\u001b[39mdropout, \u001b[38;5;28mself\u001b[39m\u001b[38;5;241m.\u001b[39mtraining, \u001b[38;5;28mself\u001b[39m\u001b[38;5;241m.\u001b[39mbidirectional)\n",
      "\u001b[0;31mKeyboardInterrupt\u001b[0m: "
     ]
    }
   ],
   "source": [
    "n = 30\n",
    "epoch_counter = 0\n",
    "for epoch in range(n):\n",
    "    model, train_loss, train_metric  = train_one_epoch(model, train_loader, loss_fn, optimizer, epoch)\n",
    "    valid_loss, valid_metric = evaluate(model, valid_loader, loss_fn)\n",
    "\n",
    "    loss_train_hist.append(train_loss)\n",
    "    loss_valid_hist.append(valid_loss)\n",
    "    \n",
    "    ppl_train_hist.append(train_metric)\n",
    "    ppl_valid_hist.append(valid_metric)\n",
    "    \n",
    "    if valid_loss < best_loss_test:\n",
    "        torch.save(model,'model.pt')\n",
    "        best_loss_test =  valid_loss\n",
    "        print('Model SAVED')\n",
    "    epoch_counter +=1"
   ]
  },
  {
   "cell_type": "code",
   "execution_count": 80,
   "id": "2cd8975f",
   "metadata": {},
   "outputs": [
    {
     "data": {
      "image/png": "[encoded data removed]",
      "text/plain": [
       "<Figure size 640x480 with 1 Axes>"
      ]
     },
     "metadata": {},
     "output_type": "display_data"
    }
   ],
   "source": [
    "plt.plot(ppl_train_hist, label='train perpelxity')\n",
    "plt.plot(ppl_valid_hist, label='valid perpelxity')\n",
    "plt.legend()\n",
    "plt.grid(True)"
   ]
  },
  {
   "cell_type": "code",
   "execution_count": 69,
   "id": "b6128082",
   "metadata": {
    "scrolled": true
   },
   "outputs": [],
   "source": [
    "def generate(prompt, temp):\n",
    "    model.eval()\n",
    "    input_eval = [vocab[c] for c in prompt]\n",
    "    with torch.no_grad():\n",
    "        for i in range(1000):\n",
    "            model.eval()\n",
    "            predictions = model(torch.LongTensor(input_eval).unsqueeze(0).to(device))\n",
    "            predictions = (predictions.squeeze() / temp)\n",
    "            arg = torch.multinomial(F.softmax(predictions, dim=-1), 1)[-1]\n",
    "            input_eval.append(arg)\n",
    "    text = ''.join(itos[c] for c in input_eval)\n",
    "    return text\n"
   ]
  },
  {
   "cell_type": "code",
   "execution_count": 70,
   "id": "18dba2ea",
   "metadata": {},
   "outputs": [
    {
     "data": {
      "text/plain": [
       "['حافظ ای درنده خوی ما را بس',\n",
       " 'به خاک پای تو ای سرو نازپرور من',\n",
       " 'که در نظر و خط چون به مهر موی تو',\n",
       " 'با درختيد خوش نباشد',\n",
       " 'هر که شاهين کسی نصيحتگوی در ميان کار او',\n",
       " 'با دل خونين لب خندان بياور همچو جام',\n",
       " 'ن دل که به ياد ن که گر ست او سر نمی گيرد',\n",
       " 'بدين شعر ترش روح که با دلدار بگشايد',\n",
       " 'که ملغز تو علين قدا باشد',\n",
       " 'هر کس نکند که اين عشق ز کاشانه تو داد',\n",
       " 'باده با محتسب خون جگر دارد',\n",
       " 'به خواب بی مثل و فتاب که يک سپند',\n",
       " 'می بيخ زمانی گفتا حکايت اين جهان دارد',\n",
       " 'چو دام عشق با دل خون گشت خواب کن',\n",
       " 'ز ما چه ساقی می خورد لب جام است',\n",
       " 'در مجلس ما عطر مياميز که ما را',\n",
       " 'هرگز نبود غنچه گر و لود نيست که نيست',\n",
       " 'بنده پير خراباتم که لطف اياد افتاد',\n",
       " 'ببين که جام جهان بين که هزاران درد هان',\n",
       " 'گفت ما کو تا براند زان تو دید',\n",
       " 'در دل او در هوا چون شاخ و برگ',\n",
       " 'شیخ کی بود کیمیای بی کران',\n",
       " 'مس اگر از کیمیا قابل نبد',\n",
       " 'کیمیا از مس هرگز مس نشد',\n",
       " 'بود کس را دایه اسباب و ابد',\n",
       " 'چون یکی حس از میانه درست',\n",
       " 'صوفی ابله پای جغدانت تست',\n",
       " 'چون نیاست ماه را با فرق پوش',\n",
       " 'کی فروزد روح را تاباک شد',\n",
       " 'عهد ما که دولت و حیله بیا',\n",
       " 'پا برهنه جانب این تنگ ازوست',\n",
       " 'خویش را ن زهر کن در تنگ خویش',\n",
       " 'او به خلوت بیش و پیوندی سوار',\n",
       " 'ری خدا ']"
      ]
     },
     "execution_count": 70,
     "metadata": {},
     "output_type": "execute_result"
    }
   ],
   "source": [
    "generate('حافظ ای درنده خوی', temp=0.2).split('|')"
   ]
  },
  {
   "cell_type": "code",
   "execution_count": null,
   "id": "d72c800e",
   "metadata": {},
   "outputs": [],
   "source": []
  },
  {
   "cell_type": "code",
   "execution_count": null,
   "id": "a9dd11e6",
   "metadata": {},
   "outputs": [],
   "source": [
    "\n",
    "\n",
    "\n"
   ]
  }
 ],
 "metadata": {
  "kernelspec": {
   "display_name": "Python 3 (ipykernel)",
   "language": "python",
   "name": "python3"
  },
  "language_info": {
   "codemirror_mode": {
    "name": "ipython",
    "version": 3
   },
   "file_extension": ".py",
   "mimetype": "text/x-python",
   "name": "python",
   "nbconvert_exporter": "python",
   "pygments_lexer": "ipython3",
   "version": "3.11.5"
  }
 },
 "nbformat": 4,
 "nbformat_minor": 5
}
